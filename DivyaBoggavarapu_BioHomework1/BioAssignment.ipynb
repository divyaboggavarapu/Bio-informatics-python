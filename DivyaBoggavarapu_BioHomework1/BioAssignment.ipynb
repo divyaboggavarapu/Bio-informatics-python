{
 "cells": [
  {
   "cell_type": "code",
   "execution_count": 2,
   "id": "a6ac49af",
   "metadata": {},
   "outputs": [],
   "source": [
    "# 1.1 Generating Your Own Unique Data"
   ]
  },
  {
   "cell_type": "code",
   "execution_count": 3,
   "id": "cf9112c0",
   "metadata": {},
   "outputs": [
    {
     "ename": "Exception",
     "evalue": "File `'datasetGenerator.py'` not found.",
     "output_type": "error",
     "traceback": [
      "\u001b[0;31m---------------------------------------------------------------------------\u001b[0m",
      "\u001b[0;31mOSError\u001b[0m                                   Traceback (most recent call last)",
      "File \u001b[0;32m~/opt/anaconda3/lib/python3.9/site-packages/IPython/core/magics/execution.py:696\u001b[0m, in \u001b[0;36mExecutionMagics.run\u001b[0;34m(self, parameter_s, runner, file_finder)\u001b[0m\n\u001b[1;32m    695\u001b[0m     fpath \u001b[38;5;241m=\u001b[39m arg_lst[\u001b[38;5;241m0\u001b[39m]\n\u001b[0;32m--> 696\u001b[0m     filename \u001b[38;5;241m=\u001b[39m \u001b[43mfile_finder\u001b[49m\u001b[43m(\u001b[49m\u001b[43mfpath\u001b[49m\u001b[43m)\u001b[49m\n\u001b[1;32m    697\u001b[0m \u001b[38;5;28;01mexcept\u001b[39;00m \u001b[38;5;167;01mIndexError\u001b[39;00m \u001b[38;5;28;01mas\u001b[39;00m e:\n",
      "File \u001b[0;32m~/opt/anaconda3/lib/python3.9/site-packages/IPython/utils/path.py:91\u001b[0m, in \u001b[0;36mget_py_filename\u001b[0;34m(name)\u001b[0m\n\u001b[1;32m     90\u001b[0m \u001b[38;5;28;01melse\u001b[39;00m:\n\u001b[0;32m---> 91\u001b[0m     \u001b[38;5;28;01mraise\u001b[39;00m \u001b[38;5;167;01mIOError\u001b[39;00m(\u001b[38;5;124m'\u001b[39m\u001b[38;5;124mFile `\u001b[39m\u001b[38;5;132;01m%r\u001b[39;00m\u001b[38;5;124m` not found.\u001b[39m\u001b[38;5;124m'\u001b[39m \u001b[38;5;241m%\u001b[39m name)\n",
      "\u001b[0;31mOSError\u001b[0m: File `'datasetGenerator.py'` not found.",
      "\nThe above exception was the direct cause of the following exception:\n",
      "\u001b[0;31mException\u001b[0m                                 Traceback (most recent call last)",
      "Input \u001b[0;32mIn [3]\u001b[0m, in \u001b[0;36m<cell line: 1>\u001b[0;34m()\u001b[0m\n\u001b[0;32m----> 1\u001b[0m \u001b[43mget_ipython\u001b[49m\u001b[43m(\u001b[49m\u001b[43m)\u001b[49m\u001b[38;5;241;43m.\u001b[39;49m\u001b[43mrun_line_magic\u001b[49m\u001b[43m(\u001b[49m\u001b[38;5;124;43m'\u001b[39;49m\u001b[38;5;124;43mrun\u001b[39;49m\u001b[38;5;124;43m'\u001b[39;49m\u001b[43m,\u001b[49m\u001b[43m \u001b[49m\u001b[38;5;124;43m'\u001b[39;49m\u001b[38;5;124;43mdatasetGenerator.py --ID 1002086719\u001b[39;49m\u001b[38;5;124;43m'\u001b[39;49m\u001b[43m)\u001b[49m\n",
      "File \u001b[0;32m~/opt/anaconda3/lib/python3.9/site-packages/IPython/core/interactiveshell.py:2294\u001b[0m, in \u001b[0;36mInteractiveShell.run_line_magic\u001b[0;34m(self, magic_name, line, _stack_depth)\u001b[0m\n\u001b[1;32m   2292\u001b[0m     kwargs[\u001b[38;5;124m'\u001b[39m\u001b[38;5;124mlocal_ns\u001b[39m\u001b[38;5;124m'\u001b[39m] \u001b[38;5;241m=\u001b[39m \u001b[38;5;28mself\u001b[39m\u001b[38;5;241m.\u001b[39mget_local_scope(stack_depth)\n\u001b[1;32m   2293\u001b[0m \u001b[38;5;28;01mwith\u001b[39;00m \u001b[38;5;28mself\u001b[39m\u001b[38;5;241m.\u001b[39mbuiltin_trap:\n\u001b[0;32m-> 2294\u001b[0m     result \u001b[38;5;241m=\u001b[39m \u001b[43mfn\u001b[49m\u001b[43m(\u001b[49m\u001b[38;5;241;43m*\u001b[39;49m\u001b[43margs\u001b[49m\u001b[43m,\u001b[49m\u001b[43m \u001b[49m\u001b[38;5;241;43m*\u001b[39;49m\u001b[38;5;241;43m*\u001b[39;49m\u001b[43mkwargs\u001b[49m\u001b[43m)\u001b[49m\n\u001b[1;32m   2295\u001b[0m \u001b[38;5;28;01mreturn\u001b[39;00m result\n",
      "File \u001b[0;32m~/opt/anaconda3/lib/python3.9/site-packages/IPython/core/magics/execution.py:707\u001b[0m, in \u001b[0;36mExecutionMagics.run\u001b[0;34m(self, parameter_s, runner, file_finder)\u001b[0m\n\u001b[1;32m    705\u001b[0m     \u001b[38;5;28;01mif\u001b[39;00m os\u001b[38;5;241m.\u001b[39mname \u001b[38;5;241m==\u001b[39m \u001b[38;5;124m'\u001b[39m\u001b[38;5;124mnt\u001b[39m\u001b[38;5;124m'\u001b[39m \u001b[38;5;129;01mand\u001b[39;00m re\u001b[38;5;241m.\u001b[39mmatch(\u001b[38;5;124mr\u001b[39m\u001b[38;5;124m\"\u001b[39m\u001b[38;5;124m^\u001b[39m\u001b[38;5;124m'\u001b[39m\u001b[38;5;124m.*\u001b[39m\u001b[38;5;124m'\u001b[39m\u001b[38;5;124m$\u001b[39m\u001b[38;5;124m\"\u001b[39m,fpath):\n\u001b[1;32m    706\u001b[0m         warn(\u001b[38;5;124m'\u001b[39m\u001b[38;5;124mFor Windows, use double quotes to wrap a filename: \u001b[39m\u001b[38;5;132;01m%r\u001b[39;00m\u001b[38;5;124mun \u001b[39m\u001b[38;5;124m\"\u001b[39m\u001b[38;5;124mmypath\u001b[39m\u001b[38;5;130;01m\\\\\u001b[39;00m\u001b[38;5;124mmyfile.py\u001b[39m\u001b[38;5;124m\"\u001b[39m\u001b[38;5;124m'\u001b[39m)\n\u001b[0;32m--> 707\u001b[0m     \u001b[38;5;28;01mraise\u001b[39;00m \u001b[38;5;167;01mException\u001b[39;00m(msg) \u001b[38;5;28;01mfrom\u001b[39;00m \u001b[38;5;21;01me\u001b[39;00m\n\u001b[1;32m    708\u001b[0m \u001b[38;5;28;01mexcept\u001b[39;00m \u001b[38;5;167;01mTypeError\u001b[39;00m:\n\u001b[1;32m    709\u001b[0m     \u001b[38;5;28;01mif\u001b[39;00m fpath \u001b[38;5;129;01min\u001b[39;00m sys\u001b[38;5;241m.\u001b[39mmeta_path:\n",
      "\u001b[0;31mException\u001b[0m: File `'datasetGenerator.py'` not found."
     ]
    }
   ],
   "source": [
    "%run datasetGenerator.py --ID 1002086719"
   ]
  },
  {
   "cell_type": "code",
   "execution_count": null,
   "id": "77b7628c",
   "metadata": {},
   "outputs": [],
   "source": [
    "# 1.2 Fisher’s Exact Test"
   ]
  },
  {
   "cell_type": "code",
   "execution_count": 4,
   "id": "2983f5d0",
   "metadata": {},
   "outputs": [
    {
     "ename": "FileNotFoundError",
     "evalue": "[Errno 2] No such file or directory: '/Users/divya/Desktop/BioAssignment0913/1002086719.csv'",
     "output_type": "error",
     "traceback": [
      "\u001b[0;31m---------------------------------------------------------------------------\u001b[0m",
      "\u001b[0;31mFileNotFoundError\u001b[0m                         Traceback (most recent call last)",
      "Input \u001b[0;32mIn [4]\u001b[0m, in \u001b[0;36m<cell line: 5>\u001b[0;34m()\u001b[0m\n\u001b[1;32m      3\u001b[0m \u001b[38;5;28;01mimport\u001b[39;00m \u001b[38;5;21;01mpandas\u001b[39;00m \u001b[38;5;28;01mas\u001b[39;00m \u001b[38;5;21;01mpd\u001b[39;00m\n\u001b[1;32m      4\u001b[0m \u001b[38;5;28;01mfrom\u001b[39;00m \u001b[38;5;21;01mscipy\u001b[39;00m\u001b[38;5;21;01m.\u001b[39;00m\u001b[38;5;21;01mstats\u001b[39;00m \u001b[38;5;28;01mimport\u001b[39;00m fisher_exact\n\u001b[0;32m----> 5\u001b[0m \u001b[38;5;28;01mwith\u001b[39;00m \u001b[38;5;28;43mopen\u001b[39;49m\u001b[43m(\u001b[49m\u001b[38;5;124;43m\"\u001b[39;49m\u001b[38;5;124;43m/Users/divya/Desktop/BioAssignment0913/1002086719.csv\u001b[39;49m\u001b[38;5;124;43m\"\u001b[39;49m\u001b[43m,\u001b[49m\u001b[43m \u001b[49m\u001b[38;5;124;43m'\u001b[39;49m\u001b[38;5;124;43mr\u001b[39;49m\u001b[38;5;124;43m'\u001b[39;49m\u001b[43m)\u001b[49m \u001b[38;5;28;01mas\u001b[39;00m file:\n\u001b[1;32m      6\u001b[0m     reader \u001b[38;5;241m=\u001b[39m csv\u001b[38;5;241m.\u001b[39mreader(file,delimiter\u001b[38;5;241m=\u001b[39m\u001b[38;5;124m'\u001b[39m\u001b[38;5;130;01m\\t\u001b[39;00m\u001b[38;5;124m'\u001b[39m)\n\u001b[1;32m      7\u001b[0m     header\u001b[38;5;241m=\u001b[39m\u001b[38;5;28mnext\u001b[39m(reader)\n",
      "\u001b[0;31mFileNotFoundError\u001b[0m: [Errno 2] No such file or directory: '/Users/divya/Desktop/BioAssignment0913/1002086719.csv'"
     ]
    }
   ],
   "source": [
    "import csv\n",
    "import numpy as np\n",
    "import pandas as pd\n",
    "from scipy.stats import fisher_exact\n",
    "with open(\"/Users/divya/Desktop/BioInfo/DivyaBoggavarapu_BioHomework1/DivyaBoggavarapu_BioHomework1/1002086719.csv\", 'r') as file:\n",
    "    reader = csv.reader(file,delimiter='\\t')\n",
    "    header=next(reader)\n",
    "    odd_ratios=[]\n",
    "    p_vals=[]\n",
    "    for row in reader:\n",
    "        x = row[0]\n",
    "        #print(x)\n",
    "        y=x.split(\",\")\n",
    "        y=y[1:]\n",
    "        y=list(map(int, y))\n",
    "        #print(y)\n",
    "        z=np.array([y])\n",
    "        z=np.resize(z,(2,2))\n",
    "        #print(z)\n",
    "        oddsr, p = fisher_exact(z, alternative='less')\n",
    "        odd_ratios.append(oddsr)\n",
    "        p_vals.append(p)\n",
    "#print(odd_ratios)\n",
    "df = pd.read_csv(\"/Users/divya/Desktop/BioAssignment0913/1002086719.csv\")\n",
    "#print(df)\n",
    "df[\"odd_ratios\"] = odd_ratios\n",
    "df[\"p_values\"]=p_vals\n",
    "df.to_csv(\"/Users/divya/Desktop/BioAssignment0913/1002086719_2.csv\", index=False)\n",
    "#print(df)"
   ]
  },
  {
   "cell_type": "code",
   "execution_count": null,
   "id": "bfe3e593",
   "metadata": {},
   "outputs": [],
   "source": [
    "df"
   ]
  },
  {
   "cell_type": "code",
   "execution_count": null,
   "id": "aeb0aab1",
   "metadata": {},
   "outputs": [],
   "source": [
    "row1 = df['p_values']\n",
    "result = pd.DataFrame(row1)"
   ]
  },
  {
   "cell_type": "code",
   "execution_count": null,
   "id": "b5c7ea7a",
   "metadata": {},
   "outputs": [],
   "source": [
    "result"
   ]
  },
  {
   "cell_type": "code",
   "execution_count": null,
   "id": "7eb945f9",
   "metadata": {},
   "outputs": [],
   "source": [
    "result = result.assign(significant= df['p_values']<5e-8)"
   ]
  },
  {
   "cell_type": "code",
   "execution_count": null,
   "id": "d3c47973",
   "metadata": {},
   "outputs": [],
   "source": [
    "result"
   ]
  },
  {
   "cell_type": "code",
   "execution_count": null,
   "id": "34b5c862",
   "metadata": {},
   "outputs": [],
   "source": [
    "result['significant'].value_counts() [True]"
   ]
  },
  {
   "cell_type": "code",
   "execution_count": null,
   "id": "4788c072",
   "metadata": {},
   "outputs": [],
   "source": [
    "result.to_csv(\"/Users/divya/Desktop/BioAssignment0913/result.csv\", index=False)"
   ]
  },
  {
   "cell_type": "code",
   "execution_count": null,
   "id": "9311ec15",
   "metadata": {},
   "outputs": [],
   "source": [
    "# 1.3 Corrected P-Values"
   ]
  },
  {
   "cell_type": "code",
   "execution_count": null,
   "id": "e5e3240f",
   "metadata": {},
   "outputs": [],
   "source": [
    "result = result.assign(significant_after_corrected= df['p_values']<5e-11)"
   ]
  },
  {
   "cell_type": "code",
   "execution_count": null,
   "id": "d682a795",
   "metadata": {},
   "outputs": [],
   "source": [
    "result"
   ]
  },
  {
   "cell_type": "code",
   "execution_count": null,
   "id": "8c7e6e8a",
   "metadata": {},
   "outputs": [],
   "source": [
    "result['significant_after_corrected'].value_counts() [True]"
   ]
  },
  {
   "cell_type": "code",
   "execution_count": null,
   "id": "f96f7772",
   "metadata": {},
   "outputs": [],
   "source": [
    "result.to_csv(\"/Users/divya/Desktop/BioAssignment0913/result.csv\", index=False)"
   ]
  },
  {
   "cell_type": "code",
   "execution_count": null,
   "id": "99ba468d",
   "metadata": {},
   "outputs": [],
   "source": [
    "# 1.4 Manhattan Plots"
   ]
  },
  {
   "cell_type": "code",
   "execution_count": null,
   "id": "d905102a",
   "metadata": {},
   "outputs": [],
   "source": [
    "from pandas import DataFrame\n",
    "from scipy.stats import uniform\n",
    "from scipy.stats import randint\n",
    "import numpy as np\n",
    "import matplotlib.pyplot as plt\n",
    "\n",
    "# -log_10(pvalue)\n",
    "df['minuslog10pvalue'] = -np.log10(df.p_values)\n",
    "print(\"df1\",df)\n",
    "# How to plot SNP vs. -log10(pvalue)?\n",
    "print(len(df))\n",
    "df['SNP'] = range(len(df))\n",
    "df_grouped = df.groupby(('SNP'))\n",
    "print(df)\n",
    "fig = plt.figure()\n",
    "ax = fig.add_subplot(111)\n",
    "for num, (name, group) in enumerate(df_grouped):\n",
    "    group.plot(kind='scatter', x='SNP', y='minuslog10pvalue', ax=ax)\n",
    "    \n",
    "plt.axhline(y = 8, color = 'r', label = \"red line\")\n",
    "plt.axhline(y = 11, color = 'r', label = \"red line\")\n",
    "ax.set_xlim([0, len(df.p_values)])\n",
    "ax.set_ylim([0, 40])\n",
    "ax.set_xlabel('SNP')"
   ]
  },
  {
   "cell_type": "code",
   "execution_count": null,
   "id": "9f35f9e9",
   "metadata": {},
   "outputs": [],
   "source": []
  }
 ],
 "metadata": {
  "kernelspec": {
   "display_name": "Python 3 (ipykernel)",
   "language": "python",
   "name": "python3"
  },
  "language_info": {
   "codemirror_mode": {
    "name": "ipython",
    "version": 3
   },
   "file_extension": ".py",
   "mimetype": "text/x-python",
   "name": "python",
   "nbconvert_exporter": "python",
   "pygments_lexer": "ipython3",
   "version": "3.9.12"
  }
 },
 "nbformat": 4,
 "nbformat_minor": 5
}
