{
 "cells": [
  {
   "cell_type": "code",
   "execution_count": 1,
   "id": "992e8d81",
   "metadata": {},
   "outputs": [],
   "source": [
    "import numpy as np\n",
    "class Solution:\n",
    "    #1\n",
    "        def global_alignment(self, sequence_A: str, sequence_B:str,\n",
    "         substitution: dict, gap: int ):\n",
    "            n = len(sequence_A)\n",
    "            m = len(sequence_B)    \n",
    "\n",
    "            if n * m == 0:\n",
    "                return n + m\n",
    "\n",
    "            d = [ [0] * (m + 1) for _ in range(n + 1)]\n",
    "\n",
    "            # init boundaries\n",
    "            for i in range(n + 1):\n",
    "                d[i][0] = i*gap\n",
    "            for j in range(m + 1):\n",
    "                d[0][j] = j*gap\n",
    "\n",
    "            # DP compute \n",
    "            for i in range(1, n + 1):\n",
    "                for j in range(1, m + 1):\n",
    "                    left = d[i - 1][j] + gap\n",
    "                    down = d[i][j - 1] + gap\n",
    "                    left_down = d[i - 1][j - 1] + substitution[sequence_A[i-1]][sequence_B[j-1]]                    \n",
    "                    d[i][j] = max(left, down, left_down)\n",
    "            print(d)\n",
    "            ans=self.global_traceback(d,n,m,sequence_A,sequence_B,gap)\n",
    "            return ans\n",
    "        #1\n",
    "        def global_traceback(self,score_matrix, ls1, ls2, seq1, seq2,gap):\n",
    "            seq1_new, seq2_new = [], []\n",
    "            stri_seq1=\"\"\n",
    "            stri_seq2=\"\"\n",
    "            i=ls1\n",
    "            j=ls2\n",
    "            while i > 0 and j > 0:\n",
    "                diag = score_matrix[j - 1][i - 1]-1\n",
    "                up = score_matrix[j - 1][i]+gap\n",
    "                left = score_matrix[j][i - 1]+gap\n",
    "                max_points = max(diag, up, left)\n",
    "                print(max_points)\n",
    "                # diag\n",
    "                if diag == max_points:\n",
    "                    stri_seq1+=seq1[i - 1]\n",
    "                    stri_seq2+=seq2[j - 1]\n",
    "                    i -= 1\n",
    "                    j -= 1\n",
    "                # up\n",
    "                elif up == max_points:\n",
    "                    stri_seq1+=seq1[i - 1]\n",
    "                    stri_seq2+=\"_\"\n",
    "                    j -= 1\n",
    "                # left\n",
    "                else:\n",
    "                    stri_seq1+=\"_\"\n",
    "                    stri_seq2+=seq2[j - 1]\n",
    "                    j -= 1\n",
    "            # left border\n",
    "            while j > 0:\n",
    "                stri_seq1+=\"_\"\n",
    "                stri_seq2+=seq2[j - 1]\n",
    "                j -= 1\n",
    "            # top border\n",
    "            while i > 0:\n",
    "                stri_seq1+=seq1[i - 1]\n",
    "                stri_seq2+=\"_\"\n",
    "                i -= 1\n",
    "            return stri_seq1[::-1], stri_seq2[::-1]\n",
    "        #1\n",
    "        def find_max_coordinates(self,score_matrix):\n",
    "            result = np.where(score_matrix == np.amax(score_matrix))\n",
    "            max_coords = (result[0][0], result[1][0])\n",
    "            print(max_coords)\n",
    "            return max_coords"
   ]
  },
  {
   "cell_type": "code",
   "execution_count": 2,
   "id": "e8bba451",
   "metadata": {},
   "outputs": [
    {
     "name": "stdout",
     "output_type": "stream",
     "text": [
      "[[0, -2, -4, -6, -8], [-2, -1, -3, -5, -7], [-4, -3, -2, -2, -4], [-6, -5, -2, -3, -3], [-8, -7, -4, -1, -3]]\n",
      "-3\n",
      "-3\n",
      "-4\n",
      "-3\n",
      "('gata_', '_ctac')\n"
     ]
    }
   ],
   "source": [
    "d = {'a': {'a':1,'t':-1,'c':-1,'g':-1}, 't':\n",
    "{'a':-1,'t':1,'c':-1,'g':-1}, 'c':\n",
    "{'a':-1,'t':-1,'c':1,'g':-1}, 'g':\n",
    "{'a':-1,'t':-1,'c':-1,'g':1}}\n",
    "ans=Solution()\n",
    "ans1 = ans.global_alignment(\"gata\",\"ctac\",d,-2)\n",
    "print(ans1)"
   ]
  },
  {
   "cell_type": "code",
   "execution_count": null,
   "id": "b383602b",
   "metadata": {},
   "outputs": [],
   "source": []
  }
 ],
 "metadata": {
  "kernelspec": {
   "display_name": "Python 3 (ipykernel)",
   "language": "python",
   "name": "python3"
  },
  "language_info": {
   "codemirror_mode": {
    "name": "ipython",
    "version": 3
   },
   "file_extension": ".py",
   "mimetype": "text/x-python",
   "name": "python",
   "nbconvert_exporter": "python",
   "pygments_lexer": "ipython3",
   "version": "3.9.12"
  }
 },
 "nbformat": 4,
 "nbformat_minor": 5
}
