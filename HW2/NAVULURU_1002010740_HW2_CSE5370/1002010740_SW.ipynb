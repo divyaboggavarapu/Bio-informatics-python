{
 "cells": [
  {
   "cell_type": "code",
   "execution_count": 1,
   "id": "87c7352d",
   "metadata": {
    "id": "87c7352d"
   },
   "outputs": [],
   "source": [
    "import numpy as np\n",
    "class Solution:\n",
    "    \n",
    "        #2\n",
    "        def local_alignment(self, sequence_A: str, sequence_B:str, substitution: dict, gap: int ):\n",
    "            n = len(sequence_A)\n",
    "            m = len(sequence_B)\n",
    "\n",
    "\n",
    "            # if one of the strings is empty\n",
    "            if n * m == 0:\n",
    "                return n + m\n",
    "\n",
    "            # array to store the convertion history\n",
    "            d = [ [0] * (m + 1) for _ in range(n + 1)]\n",
    "\n",
    "            # init boundaries\n",
    "            for i in range(n + 1):\n",
    "                d[i][0] = 0\n",
    "            for j in range(m + 1):\n",
    "                d[0][j] = 0\n",
    "\n",
    "            # DP compute \n",
    "            for i in range(1, n + 1):\n",
    "                for j in range(1, m + 1):\n",
    "                    left = d[i - 1][j] + gap\n",
    "                    down = d[i][j - 1] + gap\n",
    "                    left_down = d[i - 1][j - 1] + substitution[sequence_A[i-1]][sequence_B[j-1]]                    \n",
    "                    d[i][j] = max(left, down, left_down,0)   \n",
    "            print(d)    \n",
    "            return self.local_traceback(d,sequence_A,sequence_B,gap)\n",
    "        #2\n",
    "        def find_max_coordinates(self,score_matrix):\n",
    "          score=np.array(score_matrix)\n",
    "          result = np.where(score_matrix == np.amax(score_matrix))\n",
    "          number_max_coordinates=result[0].size\n",
    "          max_coords_arr=[]\n",
    "          for i in range(number_max_coordinates):\n",
    "            max_coords = (result[0][i], result[1][i])\n",
    "            max_coords_arr.append(max_coords)\n",
    "          print(max_coords_arr)\n",
    "          return max_coords_arr\n",
    "    \n",
    "    #3\n",
    "        def local_traceback(self,score_matrix, seq1, seq2, gap):\n",
    "            seq1_new, seq2_new = [], []\n",
    "            res = self.find_max_coordinates(score_matrix)\n",
    "            print(len(res))\n",
    "            str_arr=[]\n",
    "            for k in range(len(res)):\n",
    "              i=res[k][0]\n",
    "              j=res[k][1]\n",
    "              j-=1\n",
    "              i-=1\n",
    "              #print(i,j)\n",
    "              stri_seq1=\"\"\n",
    "              stri_seq2=\"\"\n",
    "              stri_seq1+=seq1[i]\n",
    "              stri_seq2+=seq2[j]\n",
    "              #print(i,j)\n",
    "              while score_matrix[i][j] != 0:\n",
    "                  diag = score_matrix[i - 1][j - 1]\n",
    "                  up = score_matrix[i - 1][j]\n",
    "                  left = score_matrix[i][j - 1]\n",
    "                  max_points = max(diag, up, left)\n",
    "                  score_matrix[i][j] = 0\n",
    "                  # diag\n",
    "                  if i > 0 and j > 0 and diag == max_points:\n",
    "                      stri_seq1+=seq1[i - 1]\n",
    "                      stri_seq2+=seq2[j - 1]\n",
    "                      i -= 1\n",
    "                      j -= 1\n",
    "                  # up\n",
    "                  elif j > 0 and up == max_points:\n",
    "                      stri_seq1+=\"_\"\n",
    "                      stri_seq2+=seq2[j - 1]\n",
    "                      j -= 1\n",
    "                  # left\n",
    "                  else:\n",
    "                      stri_seq1+=\"_\"\n",
    "                      stri_seq2+=seq2[i - 1]\n",
    "                      i -= 1\n",
    "              str_arr.append((stri_seq1[::-1], stri_seq2[::-1]))\n",
    "            return str_arr"
   ]
  },
  {
   "cell_type": "code",
   "execution_count": 2,
   "id": "78a196e8",
   "metadata": {
    "colab": {
     "base_uri": "https://localhost:8080/"
    },
    "id": "78a196e8",
    "outputId": "431451db-1e11-4817-95b8-fe4762ca501e"
   },
   "outputs": [
    {
     "name": "stdout",
     "output_type": "stream",
     "text": [
      "[[0, 0, 0, 0, 0], [0, 0, 0, 0, 0], [0, 0, 0, 1, 0], [0, 0, 1, 0, 0], [0, 0, 0, 2, 0]]\n",
      "[(4, 3)]\n",
      "1\n",
      "[('ta', 'ta')]\n"
     ]
    }
   ],
   "source": [
    "d = {'a': {'a':1,'t':-1,'c':-1,'g':-1}, 't':\n",
    "{'a':-1,'t':1,'c':-1,'g':-1}, 'c':\n",
    "{'a':-1,'t':-1,'c':1,'g':-1}, 'g':\n",
    "{'a':-1,'t':-1,'c':-1,'g':1}}\n",
    "ans=Solution()\n",
    "ans=ans.local_alignment(\"gata\",\"ctac\",d,-2)\n",
    "print(ans)\n"
   ]
  },
  {
   "cell_type": "code",
   "execution_count": null,
   "id": "b94a7157",
   "metadata": {},
   "outputs": [],
   "source": []
  }
 ],
 "metadata": {
  "colab": {
   "collapsed_sections": [],
   "provenance": []
  },
  "kernelspec": {
   "display_name": "Python 3 (ipykernel)",
   "language": "python",
   "name": "python3"
  },
  "language_info": {
   "codemirror_mode": {
    "name": "ipython",
    "version": 3
   },
   "file_extension": ".py",
   "mimetype": "text/x-python",
   "name": "python",
   "nbconvert_exporter": "python",
   "pygments_lexer": "ipython3",
   "version": "3.9.12"
  }
 },
 "nbformat": 4,
 "nbformat_minor": 5
}
